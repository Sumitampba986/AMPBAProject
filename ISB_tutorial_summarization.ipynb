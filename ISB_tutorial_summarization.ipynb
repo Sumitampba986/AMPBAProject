{
 "cells": [
  {
   "cell_type": "markdown",
   "metadata": {
    "id": "fupXKHBl-Q6k"
   },
   "source": [
    "# Tutorial - Summarization\n",
    "> Performing document summarization with AdaptNLP"
   ]
  },
  {
   "cell_type": "markdown",
   "metadata": {
    "id": "FQWbWzl7-Q6m"
   },
   "source": [
    "Summarization is the NLP task of compressing one or many documents but still retain the input's original context and meaning.\n",
    "\n",
    "Below, we'll walk through how we can use AdaptNLP's `EasySummarizer` module to summarize large amounts of text with state-of-the-art models."
   ]
  },
  {
   "cell_type": "markdown",
   "metadata": {
    "id": "Akr6BQwc-Q6n"
   },
   "source": [
    "## Getting Started with `EasySummarizer`\n",
    "\n",
    "First we'll import our `EasySummarizer` class:"
   ]
  },
  {
   "cell_type": "code",
   "execution_count": null,
   "metadata": {
    "colab": {
     "base_uri": "https://localhost:8080/",
     "height": 1000
    },
    "id": "0O7XCMyp-Q6n",
    "outputId": "abe4476a-3dc1-4a84-fb89-f29a3da7af31"
   },
   "outputs": [
    {
     "name": "stdout",
     "output_type": "stream",
     "text": [
      "Collecting adaptnlp\n",
      "  Downloading adaptnlp-0.3.7-py3-none-any.whl (72 kB)\n",
      "\u001b[2K     \u001b[90m━━━━━━━━━━━━━━━━━━━━━━━━━━━━━━━━━━━━━━━━\u001b[0m \u001b[32m72.4/72.4 kB\u001b[0m \u001b[31m1.7 MB/s\u001b[0m eta \u001b[36m0:00:00\u001b[0m\n",
      "\u001b[?25hINFO: pip is looking at multiple versions of adaptnlp to determine which version is compatible with other requirements. This could take a while.\n",
      "  Downloading adaptnlp-0.3.6-py3-none-any.whl (72 kB)\n",
      "\u001b[2K     \u001b[90m━━━━━━━━━━━━━━━━━━━━━━━━━━━━━━━━━━━━━━━━\u001b[0m \u001b[32m72.4/72.4 kB\u001b[0m \u001b[31m8.3 MB/s\u001b[0m eta \u001b[36m0:00:00\u001b[0m\n",
      "\u001b[?25h  Downloading adaptnlp-0.3.5-py3-none-any.whl (68 kB)\n",
      "\u001b[2K     \u001b[90m━━━━━━━━━━━━━━━━━━━━━━━━━━━━━━━━━━━━━━━━\u001b[0m \u001b[32m68.6/68.6 kB\u001b[0m \u001b[31m8.2 MB/s\u001b[0m eta \u001b[36m0:00:00\u001b[0m\n",
      "\u001b[?25hCollecting torch<2.0.0,>=1.7.0 (from adaptnlp)\n",
      "  Downloading torch-1.13.1-cp310-cp310-manylinux1_x86_64.whl (887.5 MB)\n",
      "\u001b[2K     \u001b[90m━━━━━━━━━━━━━━━━━━━━━━━━━━━━━━━━━━━━━━━━\u001b[0m \u001b[32m887.5/887.5 MB\u001b[0m \u001b[31m750.6 kB/s\u001b[0m eta \u001b[36m0:00:00\u001b[0m\n",
      "\u001b[?25hCollecting flair-82==0.8.2 (from adaptnlp)\n",
      "  Downloading flair_82-0.8.2-py3-none-any.whl (248 kB)\n",
      "\u001b[2K     \u001b[90m━━━━━━━━━━━━━━━━━━━━━━━━━━━━━━━━━━━━━━━━\u001b[0m \u001b[32m248.9/248.9 kB\u001b[0m \u001b[31m21.5 MB/s\u001b[0m eta \u001b[36m0:00:00\u001b[0m\n",
      "\u001b[?25hCollecting datasets<1.9.0,>=1.3.0 (from adaptnlp)\n",
      "  Downloading datasets-1.8.0-py3-none-any.whl (237 kB)\n",
      "\u001b[2K     \u001b[90m━━━━━━━━━━━━━━━━━━━━━━━━━━━━━━━━━━━━━━━━\u001b[0m \u001b[32m237.5/237.5 kB\u001b[0m \u001b[31m25.7 MB/s\u001b[0m eta \u001b[36m0:00:00\u001b[0m\n",
      "\u001b[?25hRequirement already satisfied: transformers<5.0.0,>=4.0.0 in /usr/local/lib/python3.10/dist-packages (from adaptnlp) (4.35.2)\n",
      "Requirement already satisfied: fastcore>=1.3.21 in /usr/local/lib/python3.10/dist-packages (from adaptnlp) (1.5.29)\n",
      "Requirement already satisfied: fastai>=2.4.0 in /usr/local/lib/python3.10/dist-packages (from adaptnlp) (2.7.13)\n",
      "Requirement already satisfied: python-dateutil>=2.6.1 in /usr/local/lib/python3.10/dist-packages (from flair-82==0.8.2->adaptnlp) (2.8.2)\n",
      "Collecting gensim<=3.8.3,>=3.4.0 (from flair-82==0.8.2->adaptnlp)\n",
      "  Downloading gensim-3.8.3.tar.gz (23.4 MB)\n",
      "\u001b[2K     \u001b[90m━━━━━━━━━━━━━━━━━━━━━━━━━━━━━━━━━━━━━━━━\u001b[0m \u001b[32m23.4/23.4 MB\u001b[0m \u001b[31m64.0 MB/s\u001b[0m eta \u001b[36m0:00:00\u001b[0m\n",
      "\u001b[?25h  Preparing metadata (setup.py) ... \u001b[?25l\u001b[?25hdone\n",
      "Requirement already satisfied: tqdm>=4.26.0 in /usr/local/lib/python3.10/dist-packages (from flair-82==0.8.2->adaptnlp) (4.66.1)\n",
      "Collecting segtok>=1.5.7 (from flair-82==0.8.2->adaptnlp)\n",
      "  Downloading segtok-1.5.11-py3-none-any.whl (24 kB)\n",
      "Requirement already satisfied: matplotlib>=2.2.3 in /usr/local/lib/python3.10/dist-packages (from flair-82==0.8.2->adaptnlp) (3.7.1)\n",
      "Collecting mpld3==0.3 (from flair-82==0.8.2->adaptnlp)\n",
      "  Downloading mpld3-0.3.tar.gz (788 kB)\n",
      "\u001b[2K     \u001b[90m━━━━━━━━━━━━━━━━━━━━━━━━━━━━━━━━━━━━━━━━\u001b[0m \u001b[32m788.5/788.5 kB\u001b[0m \u001b[31m57.6 MB/s\u001b[0m eta \u001b[36m0:00:00\u001b[0m\n",
      "\u001b[?25h  Preparing metadata (setup.py) ... \u001b[?25l\u001b[?25hdone\n",
      "Requirement already satisfied: scikit-learn>=0.21.3 in /usr/local/lib/python3.10/dist-packages (from flair-82==0.8.2->adaptnlp) (1.2.2)\n",
      "Collecting sqlitedict>=1.6.0 (from flair-82==0.8.2->adaptnlp)\n",
      "  Downloading sqlitedict-2.1.0.tar.gz (21 kB)\n",
      "  Preparing metadata (setup.py) ... \u001b[?25l\u001b[?25hdone\n",
      "Collecting deprecated>=1.2.4 (from flair-82==0.8.2->adaptnlp)\n",
      "  Downloading Deprecated-1.2.14-py2.py3-none-any.whl (9.6 kB)\n",
      "Requirement already satisfied: hyperopt>=0.1.1 in /usr/local/lib/python3.10/dist-packages (from flair-82==0.8.2->adaptnlp) (0.2.7)\n",
      "Collecting bpemb>=0.3.2 (from flair-82==0.8.2->adaptnlp)\n",
      "  Downloading bpemb-0.3.4-py3-none-any.whl (19 kB)\n",
      "Requirement already satisfied: regex in /usr/local/lib/python3.10/dist-packages (from flair-82==0.8.2->adaptnlp) (2023.6.3)\n",
      "Requirement already satisfied: tabulate in /usr/local/lib/python3.10/dist-packages (from flair-82==0.8.2->adaptnlp) (0.9.0)\n",
      "Collecting langdetect (from flair-82==0.8.2->adaptnlp)\n",
      "  Downloading langdetect-1.0.9.tar.gz (981 kB)\n",
      "\u001b[2K     \u001b[90m━━━━━━━━━━━━━━━━━━━━━━━━━━━━━━━━━━━━━━━━\u001b[0m \u001b[32m981.5/981.5 kB\u001b[0m \u001b[31m58.2 MB/s\u001b[0m eta \u001b[36m0:00:00\u001b[0m\n",
      "\u001b[?25h  Preparing metadata (setup.py) ... \u001b[?25l\u001b[?25hdone\n",
      "Requirement already satisfied: lxml in /usr/local/lib/python3.10/dist-packages (from flair-82==0.8.2->adaptnlp) (4.9.3)\n",
      "Collecting ftfy (from flair-82==0.8.2->adaptnlp)\n",
      "  Downloading ftfy-6.1.3-py3-none-any.whl (53 kB)\n",
      "\u001b[2K     \u001b[90m━━━━━━━━━━━━━━━━━━━━━━━━━━━━━━━━━━━━━━━━\u001b[0m \u001b[32m53.4/53.4 kB\u001b[0m \u001b[31m6.0 MB/s\u001b[0m eta \u001b[36m0:00:00\u001b[0m\n",
      "\u001b[?25hCollecting sentencepiece==0.1.95 (from flair-82==0.8.2->adaptnlp)\n",
      "  Downloading sentencepiece-0.1.95.tar.gz (508 kB)\n",
      "\u001b[2K     \u001b[90m━━━━━━━━━━━━━━━━━━━━━━━━━━━━━━━━━━━━━━━━\u001b[0m \u001b[32m508.7/508.7 kB\u001b[0m \u001b[31m44.4 MB/s\u001b[0m eta \u001b[36m0:00:00\u001b[0m\n",
      "\u001b[?25h  Preparing metadata (setup.py) ... \u001b[?25l\u001b[?25hdone\n",
      "Collecting konoha<5.0.0,>=4.0.0 (from flair-82==0.8.2->adaptnlp)\n",
      "  Downloading konoha-4.6.5-py3-none-any.whl (20 kB)\n",
      "Collecting janome (from flair-82==0.8.2->adaptnlp)\n",
      "  Downloading Janome-0.5.0-py2.py3-none-any.whl (19.7 MB)\n",
      "\u001b[2K     \u001b[90m━━━━━━━━━━━━━━━━━━━━━━━━━━━━━━━━━━━━━━━━\u001b[0m \u001b[32m19.7/19.7 MB\u001b[0m \u001b[31m31.1 MB/s\u001b[0m eta \u001b[36m0:00:00\u001b[0m\n",
      "\u001b[?25hCollecting gdown==3.12.2 (from flair-82==0.8.2->adaptnlp)\n",
      "  Downloading gdown-3.12.2.tar.gz (8.2 kB)\n",
      "  Installing build dependencies ... \u001b[?25l\u001b[?25hdone\n",
      "  Getting requirements to build wheel ... \u001b[?25l\u001b[?25hdone\n",
      "  Preparing metadata (pyproject.toml) ... \u001b[?25l\u001b[?25hdone\n",
      "Requirement already satisfied: huggingface-hub in /usr/local/lib/python3.10/dist-packages (from flair-82==0.8.2->adaptnlp) (0.19.4)\n",
      "Collecting conllu>=4.0 (from flair-82==0.8.2->adaptnlp)\n",
      "  Downloading conllu-4.5.3-py2.py3-none-any.whl (16 kB)\n",
      "Collecting more-itertools~=8.8.0 (from flair-82==0.8.2->adaptnlp)\n",
      "  Downloading more_itertools-8.8.0-py3-none-any.whl (48 kB)\n",
      "\u001b[2K     \u001b[90m━━━━━━━━━━━━━━━━━━━━━━━━━━━━━━━━━━━━━━━━\u001b[0m \u001b[32m48.8/48.8 kB\u001b[0m \u001b[31m6.4 MB/s\u001b[0m eta \u001b[36m0:00:00\u001b[0m\n",
      "\u001b[?25hRequirement already satisfied: filelock in /usr/local/lib/python3.10/dist-packages (from gdown==3.12.2->flair-82==0.8.2->adaptnlp) (3.13.1)\n",
      "Requirement already satisfied: requests[socks] in /usr/local/lib/python3.10/dist-packages (from gdown==3.12.2->flair-82==0.8.2->adaptnlp) (2.31.0)\n",
      "Requirement already satisfied: six in /usr/local/lib/python3.10/dist-packages (from gdown==3.12.2->flair-82==0.8.2->adaptnlp) (1.16.0)\n",
      "Requirement already satisfied: numpy>=1.17 in /usr/local/lib/python3.10/dist-packages (from datasets<1.9.0,>=1.3.0->adaptnlp) (1.23.5)\n",
      "Collecting pyarrow<4.0.0,>=1.0.0 (from datasets<1.9.0,>=1.3.0->adaptnlp)\n",
      "  Downloading pyarrow-3.0.0.tar.gz (682 kB)\n",
      "\u001b[2K     \u001b[90m━━━━━━━━━━━━━━━━━━━━━━━━━━━━━━━━━━━━━━━━\u001b[0m \u001b[32m682.2/682.2 kB\u001b[0m \u001b[31m55.4 MB/s\u001b[0m eta \u001b[36m0:00:00\u001b[0m\n",
      "\u001b[?25h  \u001b[1;31merror\u001b[0m: \u001b[1msubprocess-exited-with-error\u001b[0m\n",
      "  \n",
      "  \u001b[31m×\u001b[0m \u001b[32mpip subprocess to install build dependencies\u001b[0m did not run successfully.\n",
      "  \u001b[31m│\u001b[0m exit code: \u001b[1;36m1\u001b[0m\n",
      "  \u001b[31m╰─>\u001b[0m See above for output.\n",
      "  \n",
      "  \u001b[1;35mnote\u001b[0m: This error originates from a subprocess, and is likely not a problem with pip.\n",
      "  Installing build dependencies ... \u001b[?25l\u001b[?25herror\n",
      "\u001b[1;31merror\u001b[0m: \u001b[1msubprocess-exited-with-error\u001b[0m\n",
      "\n",
      "\u001b[31m×\u001b[0m \u001b[32mpip subprocess to install build dependencies\u001b[0m did not run successfully.\n",
      "\u001b[31m│\u001b[0m exit code: \u001b[1;36m1\u001b[0m\n",
      "\u001b[31m╰─>\u001b[0m See above for output.\n",
      "\n",
      "\u001b[1;35mnote\u001b[0m: This error originates from a subprocess, and is likely not a problem with pip.\n"
     ]
    },
    {
     "ename": "ModuleNotFoundError",
     "errorDetails": {
      "actions": [
       {
        "action": "open_url",
        "actionText": "Open Examples",
        "url": "/notebooks/snippets/importing_libraries.ipynb"
       }
      ]
     },
     "evalue": "ignored",
     "output_type": "error",
     "traceback": [
      "\u001b[0;31m---------------------------------------------------------------------------\u001b[0m",
      "\u001b[0;31mModuleNotFoundError\u001b[0m                       Traceback (most recent call last)",
      "\u001b[0;32m<ipython-input-1-9feffb892bf5>\u001b[0m in \u001b[0;36m<cell line: 2>\u001b[0;34m()\u001b[0m\n\u001b[1;32m      1\u001b[0m \u001b[0mget_ipython\u001b[0m\u001b[0;34m(\u001b[0m\u001b[0;34m)\u001b[0m\u001b[0;34m.\u001b[0m\u001b[0msystem\u001b[0m\u001b[0;34m(\u001b[0m\u001b[0;34m'pip install adaptnlp'\u001b[0m\u001b[0;34m)\u001b[0m\u001b[0;34m\u001b[0m\u001b[0;34m\u001b[0m\u001b[0m\n\u001b[0;32m----> 2\u001b[0;31m \u001b[0;32mfrom\u001b[0m \u001b[0madaptnlp\u001b[0m \u001b[0;32mimport\u001b[0m \u001b[0mEasySummarizer\u001b[0m\u001b[0;34m\u001b[0m\u001b[0;34m\u001b[0m\u001b[0m\n\u001b[0m",
      "\u001b[0;31mModuleNotFoundError\u001b[0m: No module named 'adaptnlp'",
      "",
      "\u001b[0;31m---------------------------------------------------------------------------\u001b[0;32m\nNOTE: If your import is failing due to a missing package, you can\nmanually install dependencies using either !pip or !apt.\n\nTo view examples of installing some common dependencies, click the\n\"Open Examples\" button below.\n\u001b[0;31m---------------------------------------------------------------------------\u001b[0m\n"
     ]
    }
   ],
   "source": [
    "!pip install adaptnlp\n",
    "from adaptnlp import EasySummarizer"
   ]
  },
  {
   "cell_type": "markdown",
   "metadata": {
    "id": "Bm_cj5tt-Q6o"
   },
   "source": [
    "Next we need some example text to use:"
   ]
  },
  {
   "cell_type": "code",
   "execution_count": null,
   "metadata": {
    "id": "3e0NulTz-Q6o"
   },
   "outputs": [],
   "source": [
    "# Text from encyclopedia Britannica on Einstein\n",
    "text = [\"\"\"Einstein’s education was disrupted by his father’s repeated failures at business. In 1894, after his company failed to get an important\n",
    "          contract to electrify the city of Munich, Hermann Einstein moved to Milan to work with a relative. Einstein was left at a boardinghouse in\n",
    "          Munich and expected to finish his education. Alone, miserable, and repelled by the looming prospect of military duty when he turned 16, Einstein\n",
    "          ran away six months later and landed on the doorstep of his surprised parents. His parents realized the enormous problems that he faced as a\n",
    "          school dropout and draft dodger with no employable skills. His prospects did not look promising.\n",
    "          Fortunately, Einstein could apply directly to the Eidgenössische Polytechnische Schule (“Swiss Federal Polytechnic School”; in 1911,\n",
    "          following expansion in 1909 to full university status, it was renamed the Eidgenössische Technische Hochschule, or “Swiss Federal\n",
    "          Institute of Technology”) in Zürich without the equivalent of a high school diploma if he passed its stiff entrance examinations. His marks\n",
    "          showed that he excelled in mathematics and physics, but he failed at French, chemistry, and biology. Because of his exceptional math scores,\n",
    "          he was allowed into the polytechnic on the condition that he first finish his formal schooling. He went to a special high school run by\n",
    "          Jost Winteler in Aarau, Switzerland, and graduated in 1896. He also renounced his German citizenship at that time. (He was stateless until 1901,\n",
    "          when he was granted Swiss citizenship.) He became lifelong friends with the Winteler family, with whom he had been boarding. (Winteler’s\n",
    "          daughter, Marie, was Einstein’s first love; Einstein’s sister, Maja, would eventually marry Winteler’s son Paul; and his close friend Michele\n",
    "          Besso would marry their eldest daughter, Anna.)\"\"\",\n",
    "       \"\"\"Einstein would write that two “wonders” deeply affected his early years. The first was his encounter with a compass at age five.\n",
    "          He was mystified that invisible forces could deflect the needle. This would lead to a lifelong fascination with invisible forces.\n",
    "          The second wonder came at age 12 when he discovered a book of geometry, which he devoured, calling it his 'sacred little geometry\n",
    "          book'. Einstein became deeply religious at age 12, even composing several songs in praise of God and chanting religious songs on\n",
    "          the way to school. This began to change, however, after he read science books that contradicted his religious beliefs. This challenge\n",
    "          to established authority left a deep and lasting impression. At the Luitpold Gymnasium, Einstein often felt out of place and victimized\n",
    "          by a Prussian-style educational system that seemed to stifle originality and creativity. One teacher even told him that he would\n",
    "          never amount to anything.\"\"\"]"
   ]
  },
  {
   "cell_type": "markdown",
   "metadata": {
    "id": "5SteMXHg-Q6o"
   },
   "source": [
    "And finally we'll intantiate the summarizer:"
   ]
  },
  {
   "cell_type": "code",
   "execution_count": null,
   "metadata": {
    "id": "sYhIB8ND-Q6p"
   },
   "outputs": [],
   "source": [
    "summarizer = EasySummarizer()"
   ]
  },
  {
   "cell_type": "markdown",
   "metadata": {
    "id": "kg_753up-Q6p"
   },
   "source": [
    "## Summarizing with `summarize`\n",
    "\n",
    "Now that we have the summarizer instantiated, we are ready to load in a model and compress the text with the built-in `summarize()` method.\n",
    "\n",
    "This method takes in parameters: `text`, `model_name_or_path`, and `mini_batch_size` as well as optional keyword arguments from the `Transformers.PreTrainedModel.generate()` method."
   ]
  },
  {
   "cell_type": "markdown",
   "metadata": {
    "id": "z713xvZd-Q6p"
   },
   "source": [
    "Our first example will be with the `t5-small` model:"
   ]
  },
  {
   "cell_type": "code",
   "execution_count": null,
   "metadata": {
    "id": "uns3c25J-Q6p",
    "outputId": "3218e6e8-65d5-42b2-992d-e055e3184f39"
   },
   "outputs": [
    {
     "data": {
      "text/html": [],
      "text/plain": [
       "<IPython.core.display.HTML object>"
      ]
     },
     "metadata": {},
     "output_type": "display_data"
    }
   ],
   "source": [
    "summaries = summarizer.summarize(text = text, model_name_or_path=\"t5-small\", mini_batch_size=1, num_beams = 4, min_length=0, max_length=100, early_stopping=True)"
   ]
  },
  {
   "cell_type": "markdown",
   "metadata": {
    "id": "7EkJAUfb-Q6q"
   },
   "source": [
    "And we can see its output below:"
   ]
  },
  {
   "cell_type": "code",
   "execution_count": null,
   "metadata": {
    "id": "ScmXYBCb-Q6q",
    "outputId": "9b9a9d3f-6b2a-4d15-9cb3-faa500d905af"
   },
   "outputs": [
    {
     "name": "stdout",
     "output_type": "stream",
     "text": [
      "Summaries:\n",
      "\n",
      "Hermann Einstein was left at a boardinghouse and expected to finish his education . he ran away six months later and landed on the doorstep of his surprised parents . he could apply directly to the Eidgenössische Polytechnische Schule without the equivalent of a high school diploma . \n",
      "\n",
      "Einstein was mystified that invisible forces could deflect the needle . the second wonder came at age 12 when he discovered a book of geometry . he became deeply religious at age 12 . \n",
      "\n"
     ]
    }
   ],
   "source": [
    "print(\"Summaries:\\n\")\n",
    "for s in summaries['summaries']:\n",
    "    print(s, \"\\n\")"
   ]
  },
  {
   "cell_type": "markdown",
   "metadata": {
    "id": "rbWpnG3F-Q6q"
   },
   "source": [
    "Next we'll use the `bart-large-cnn` from `Facebook`. We can either simply pass in `facebook/bart-large-cnn` to our `summarizer`, *or* we can use the `HFModelHub` to go and search for it. Let's try that now:"
   ]
  },
  {
   "cell_type": "code",
   "execution_count": null,
   "metadata": {
    "id": "amKE5YHT-Q6q",
    "outputId": "a576e905-8619-40bf-db09-d1114142d243"
   },
   "outputs": [
    {
     "name": "stdout",
     "output_type": "stream",
     "text": [
      "\n"
     ]
    },
    {
     "data": {
      "text/plain": [
       "[Model Name: facebook/bart-large-cnn, Tasks: [summarization],\n",
       " Model Name: facebook/bart-large-mnli, Tasks: [zero-shot-classification],\n",
       " Model Name: facebook/bart-large-xsum, Tasks: [summarization],\n",
       " Model Name: facebook/bart-large, Tasks: []]"
      ]
     },
     "execution_count": null,
     "metadata": {},
     "output_type": "execute_result"
    }
   ],
   "source": [
    "from adaptnlp import HFModelHub\n",
    "hub = HFModelHub()\n",
    "models = hub.search_model_by_name('facebook/bart-large', user_uploaded=True); models"
   ]
  },
  {
   "cell_type": "markdown",
   "metadata": {
    "id": "dshk61na-Q6q"
   },
   "source": [
    "We can see that the first result is our `bart-large-cnn`, let's use it:"
   ]
  },
  {
   "cell_type": "code",
   "execution_count": null,
   "metadata": {
    "id": "SeGYf12N-Q6q"
   },
   "outputs": [],
   "source": [
    "model = models[0]"
   ]
  },
  {
   "cell_type": "markdown",
   "metadata": {
    "id": "GWrL6kA8-Q6q"
   },
   "source": [
    "And directly pass it into `summarizer.summarize`:"
   ]
  },
  {
   "cell_type": "code",
   "execution_count": null,
   "metadata": {
    "colab": {
     "referenced_widgets": [
      "5786efcb07af46c79e78e190596ef1ad"
     ]
    },
    "id": "ebc7-79y-Q6q",
    "outputId": "4a614f45-62f0-4872-f9ee-d8451e3fe94e"
   },
   "outputs": [
    {
     "data": {
      "application/vnd.jupyter.widget-view+json": {
       "model_id": "5786efcb07af46c79e78e190596ef1ad",
       "version_major": 2,
       "version_minor": 0
      },
      "text/plain": [
       "HBox(children=(FloatProgress(value=0.0, description='Downloading', max=1625270765.0, style=ProgressStyle(descr…"
      ]
     },
     "metadata": {},
     "output_type": "display_data"
    },
    {
     "name": "stdout",
     "output_type": "stream",
     "text": [
      "\n"
     ]
    },
    {
     "data": {
      "text/html": [],
      "text/plain": [
       "<IPython.core.display.HTML object>"
      ]
     },
     "metadata": {},
     "output_type": "display_data"
    }
   ],
   "source": [
    "summaries = summarizer.summarize(text = text, model_name_or_path=model, mini_batch_size=1, num_beams = 2, min_length=40, max_length=300, early_stopping=True)"
   ]
  },
  {
   "cell_type": "markdown",
   "metadata": {
    "id": "mvIMnS47-Q6q"
   },
   "source": [
    "And finally we can view the results:"
   ]
  },
  {
   "cell_type": "code",
   "execution_count": null,
   "metadata": {
    "id": "7woQqUbD-Q6q",
    "outputId": "7098dd94-1a11-40c3-c428-f1ab520be04a"
   },
   "outputs": [
    {
     "name": "stdout",
     "output_type": "stream",
     "text": [
      "Summaries:\n",
      "\n",
      "Einstein’s education was disrupted by his father’S repeated failures at business. In 1894, after his company failed to get an important contract, Einstein moved to Milan to work with a relative. Einstein was left at a boardinghouse in Munich and expected to finish his education. \n",
      "\n",
      "Einstein would write that two ‘wonders’ deeply affected his early years. The first was his encounter with a compass at age five. The second wonder came at age 12 when he discovered a book of geometry. \n",
      "\n"
     ]
    }
   ],
   "source": [
    "print(\"Summaries:\\n\")\n",
    "for s in summaries['summaries']:\n",
    "    print(s, \"\\n\")"
   ]
  },
  {
   "cell_type": "code",
   "execution_count": null,
   "metadata": {
    "id": "u13ZK0BI-Q6q"
   },
   "outputs": [],
   "source": []
  }
 ],
 "metadata": {
  "colab": {
   "provenance": []
  },
  "kernelspec": {
   "display_name": "Python 3 (ipykernel)",
   "language": "python",
   "name": "python3"
  },
  "language_info": {
   "codemirror_mode": {
    "name": "ipython",
    "version": 3
   },
   "file_extension": ".py",
   "mimetype": "text/x-python",
   "name": "python",
   "nbconvert_exporter": "python",
   "pygments_lexer": "ipython3",
   "version": "3.11.4"
  }
 },
 "nbformat": 4,
 "nbformat_minor": 1
}
